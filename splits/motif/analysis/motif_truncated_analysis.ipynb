{
 "cells": [
  {
   "cell_type": "code",
   "execution_count": 1,
   "id": "e4ff3aa3",
   "metadata": {},
   "outputs": [],
   "source": [
    "import sys\n",
    "from utils.best_split_utils import *\n",
    "import pandas as pd\n",
    "import matplotlib.pyplot as plt\n",
    "import json"
   ]
  },
  {
   "cell_type": "code",
   "execution_count": 2,
   "id": "c65086a7",
   "metadata": {},
   "outputs": [
    {
     "data": {
      "text/plain": [
       "(                                          family first_submission_date\n",
       " md5                                                                   \n",
       " 001d216ee755f0bc96125892e2fb3e3a         shamoon               2018-12\n",
       " 006b418307c534754f055436a91848aa       downdelph               2016-10\n",
       " 00b35fb5c534dea3ea13c8be4e4585cc  discordiaminer               2017-05\n",
       " 00c417425a73db5a315d23fac8cb353f         shamoon               2017-07\n",
       " 00cd973ae62f7824dfce7bebda46dcf1          ramnit               2018-10,\n",
       " (1947, 2))"
      ]
     },
     "execution_count": 2,
     "metadata": {},
     "output_type": "execute_result"
    }
   ],
   "source": [
    "df_motif = pd.read_csv(\"./motif_dataset.csv\")\n",
    "df_motif.set_index(\"md5\", inplace=True)\n",
    "df_motif.head(), df_motif.shape"
   ]
  },
  {
   "cell_type": "code",
   "execution_count": 3,
   "id": "8a278434",
   "metadata": {},
   "outputs": [
    {
     "data": {
      "text/plain": [
       "1947"
      ]
     },
     "execution_count": 3,
     "metadata": {},
     "output_type": "execute_result"
    }
   ],
   "source": [
    "import os\n",
    "\n",
    "base_motif_path = \"/home/luca/feature_extraction/ember/MOTIF/MOTIF/MOTIF_defanged/\"\n",
    "motif_filenames = os.listdir(base_motif_path)\n",
    "motif_filenames = [\n",
    "    os.path.join(base_motif_path, s)\n",
    "    for s in motif_filenames\n",
    "    if s.removeprefix(\"MOTIF_\") in df_motif.index\n",
    "]\n",
    "len(motif_filenames)"
   ]
  },
  {
   "cell_type": "code",
   "execution_count": 4,
   "id": "bb1fd7c9",
   "metadata": {},
   "outputs": [],
   "source": [
    "import pefile\n",
    "\n",
    "\n",
    "def is_truncated(path: str) -> bool:\n",
    "    pe = pefile.PE(path, fast_load=True)\n",
    "    max_section_offset = 0\n",
    "    for section in pe.sections:\n",
    "        file_offset = section.PointerToRawData\n",
    "        size = min(section.SizeOfRawData, section.Misc_VirtualSize)\n",
    "        max_section_offset = max(max_section_offset, file_offset + size)\n",
    "    file_size = len(pe.__data__)\n",
    "    pe.close()\n",
    "    return file_size < max_section_offset"
   ]
  },
  {
   "cell_type": "code",
   "execution_count": 5,
   "id": "b8d73e5c",
   "metadata": {},
   "outputs": [],
   "source": [
    "from multiprocessing import Pool\n",
    "\n",
    "with Pool(32) as p:\n",
    "    motif_truncated_info = p.map(is_truncated, motif_filenames)"
   ]
  },
  {
   "cell_type": "code",
   "execution_count": 6,
   "id": "af3921c8",
   "metadata": {},
   "outputs": [
    {
     "data": {
      "text/html": [
       "<div>\n",
       "<style scoped>\n",
       "    .dataframe tbody tr th:only-of-type {\n",
       "        vertical-align: middle;\n",
       "    }\n",
       "\n",
       "    .dataframe tbody tr th {\n",
       "        vertical-align: top;\n",
       "    }\n",
       "\n",
       "    .dataframe thead th {\n",
       "        text-align: right;\n",
       "    }\n",
       "</style>\n",
       "<table border=\"1\" class=\"dataframe\">\n",
       "  <thead>\n",
       "    <tr style=\"text-align: right;\">\n",
       "      <th></th>\n",
       "      <th>truncated</th>\n",
       "    </tr>\n",
       "    <tr>\n",
       "      <th>md5</th>\n",
       "      <th></th>\n",
       "    </tr>\n",
       "  </thead>\n",
       "  <tbody>\n",
       "    <tr>\n",
       "      <th>cffeb77be6d9f39a6ece669be9626af9</th>\n",
       "      <td>False</td>\n",
       "    </tr>\n",
       "    <tr>\n",
       "      <th>bb992ba5a4b4a882a169a5583d26cb2b</th>\n",
       "      <td>False</td>\n",
       "    </tr>\n",
       "    <tr>\n",
       "      <th>6a9348f582b2e121a5d9bff1e8f0935f</th>\n",
       "      <td>False</td>\n",
       "    </tr>\n",
       "    <tr>\n",
       "      <th>acf5b11b92aa8c99a2807b62c68e3cc7</th>\n",
       "      <td>False</td>\n",
       "    </tr>\n",
       "    <tr>\n",
       "      <th>6fba25e5a99ec3a628d8cd2018600409</th>\n",
       "      <td>False</td>\n",
       "    </tr>\n",
       "  </tbody>\n",
       "</table>\n",
       "</div>"
      ],
      "text/plain": [
       "                                  truncated\n",
       "md5                                        \n",
       "cffeb77be6d9f39a6ece669be9626af9      False\n",
       "bb992ba5a4b4a882a169a5583d26cb2b      False\n",
       "6a9348f582b2e121a5d9bff1e8f0935f      False\n",
       "acf5b11b92aa8c99a2807b62c68e3cc7      False\n",
       "6fba25e5a99ec3a628d8cd2018600409      False"
      ]
     },
     "execution_count": 6,
     "metadata": {},
     "output_type": "execute_result"
    }
   ],
   "source": [
    "truncated_df = pd.DataFrame(\n",
    "    {\n",
    "        \"md5\": [s.removeprefix(base_motif_path + \"MOTIF_\") for s in motif_filenames],\n",
    "        \"truncated\": motif_truncated_info,\n",
    "    }\n",
    ")\n",
    "# truncated_df = truncated_df[truncated_df[\"truncated\"]]\n",
    "truncated_df.set_index(\"md5\", inplace=True)\n",
    "truncated_df.head()"
   ]
  },
  {
   "cell_type": "code",
   "execution_count": 7,
   "id": "ee210452",
   "metadata": {},
   "outputs": [
    {
     "data": {
      "text/html": [
       "<div>\n",
       "<style scoped>\n",
       "    .dataframe tbody tr th:only-of-type {\n",
       "        vertical-align: middle;\n",
       "    }\n",
       "\n",
       "    .dataframe tbody tr th {\n",
       "        vertical-align: top;\n",
       "    }\n",
       "\n",
       "    .dataframe thead th {\n",
       "        text-align: right;\n",
       "    }\n",
       "</style>\n",
       "<table border=\"1\" class=\"dataframe\">\n",
       "  <thead>\n",
       "    <tr style=\"text-align: right;\">\n",
       "      <th></th>\n",
       "      <th>truncated</th>\n",
       "      <th>family</th>\n",
       "    </tr>\n",
       "    <tr>\n",
       "      <th>md5</th>\n",
       "      <th></th>\n",
       "      <th></th>\n",
       "    </tr>\n",
       "  </thead>\n",
       "  <tbody>\n",
       "    <tr>\n",
       "      <th>cffeb77be6d9f39a6ece669be9626af9</th>\n",
       "      <td>False</td>\n",
       "      <td>sage</td>\n",
       "    </tr>\n",
       "    <tr>\n",
       "      <th>bb992ba5a4b4a882a169a5583d26cb2b</th>\n",
       "      <td>False</td>\n",
       "      <td>sagerunex</td>\n",
       "    </tr>\n",
       "    <tr>\n",
       "      <th>6a9348f582b2e121a5d9bff1e8f0935f</th>\n",
       "      <td>False</td>\n",
       "      <td>treasurehunt</td>\n",
       "    </tr>\n",
       "    <tr>\n",
       "      <th>acf5b11b92aa8c99a2807b62c68e3cc7</th>\n",
       "      <td>False</td>\n",
       "      <td>redaman</td>\n",
       "    </tr>\n",
       "    <tr>\n",
       "      <th>6fba25e5a99ec3a628d8cd2018600409</th>\n",
       "      <td>False</td>\n",
       "      <td>cerber</td>\n",
       "    </tr>\n",
       "  </tbody>\n",
       "</table>\n",
       "</div>"
      ],
      "text/plain": [
       "                                  truncated        family\n",
       "md5                                                      \n",
       "cffeb77be6d9f39a6ece669be9626af9      False          sage\n",
       "bb992ba5a4b4a882a169a5583d26cb2b      False     sagerunex\n",
       "6a9348f582b2e121a5d9bff1e8f0935f      False  treasurehunt\n",
       "acf5b11b92aa8c99a2807b62c68e3cc7      False       redaman\n",
       "6fba25e5a99ec3a628d8cd2018600409      False        cerber"
      ]
     },
     "execution_count": 7,
     "metadata": {},
     "output_type": "execute_result"
    }
   ],
   "source": [
    "truncated_df[\"family\"] = df_motif.loc[truncated_df.index, \"family\"]\n",
    "truncated_df.head()"
   ]
  },
  {
   "cell_type": "code",
   "execution_count": 8,
   "id": "6d54cf7f",
   "metadata": {},
   "outputs": [
    {
     "data": {
      "text/plain": [
       "<Figure size 640x480 with 0 Axes>"
      ]
     },
     "metadata": {},
     "output_type": "display_data"
    },
    {
     "data": {
      "image/png": "[encoded data removed]",
      "text/plain": [
       "<Figure size 640x480 with 1 Axes>"
      ]
     },
     "metadata": {},
     "output_type": "display_data"
    }
   ],
   "source": [
    "plt.figure()\n",
    "\n",
    "truncated_df1 = truncated_df[truncated_df[\"truncated\"]]\n",
    "\n",
    "df = pd.DataFrame(\n",
    "    {\n",
    "        \"counts\": truncated_df1[\"family\"].value_counts(),\n",
    "        \"family\": truncated_df1[\"family\"].value_counts().index,\n",
    "    }\n",
    ")\n",
    "df.set_index(\"family\", inplace=True)\n",
    "\n",
    "value_counts = df_motif[\"family\"][\n",
    "    df_motif[\"family\"].isin(truncated_df1[\"family\"])\n",
    "].value_counts()\n",
    "df.loc[value_counts.index, \"counts_orig\"] = value_counts\n",
    "\n",
    "df.plot(kind=\"bar\", title=\"Truncated samples per family\")\n",
    "plt.show()"
   ]
  },
  {
   "cell_type": "code",
   "execution_count": 9,
   "id": "5719c613",
   "metadata": {},
   "outputs": [
    {
     "data": {
      "text/plain": [
       "counts          7.0\n",
       "counts_orig    15.0\n",
       "Name: cryptoshuffler, dtype: float64"
      ]
     },
     "execution_count": 9,
     "metadata": {},
     "output_type": "execute_result"
    }
   ],
   "source": [
    "df.loc[\"cryptoshuffler\"]"
   ]
  },
  {
   "cell_type": "code",
   "execution_count": 10,
   "id": "403984f4",
   "metadata": {},
   "outputs": [],
   "source": [
    "df = truncated_df.groupby(\"family\").agg({\"truncated\": \"sum\"})"
   ]
  },
  {
   "cell_type": "code",
   "execution_count": 11,
   "id": "717ac04e",
   "metadata": {},
   "outputs": [],
   "source": [
    "all_families = df_motif[\"family\"].unique()\n",
    "n_families_to_exclude = [\n",
    "    len(list(df[df[\"truncated\"] >= i].index)) / len(all_families) for i in range(101)\n",
    "]"
   ]
  },
  {
   "cell_type": "code",
   "execution_count": 12,
   "id": "b60a39bf",
   "metadata": {},
   "outputs": [],
   "source": [
    "n_families_to_exclude_tozero = []\n",
    "for p in n_families_to_exclude:\n",
    "    if p == 0:\n",
    "        n_families_to_exclude_tozero.append(0)\n",
    "        break\n",
    "    else:\n",
    "        n_families_to_exclude_tozero.append(p)"
   ]
  },
  {
   "cell_type": "code",
   "execution_count": 13,
   "id": "4e5e2240",
   "metadata": {},
   "outputs": [
    {
     "data": {
      "image/png": "[encoded data removed]",
      "text/plain": [
       "<Figure size 640x480 with 1 Axes>"
      ]
     },
     "metadata": {},
     "output_type": "display_data"
    }
   ],
   "source": [
    "import seaborn as sns\n",
    "\n",
    "plt.title(\"Elbow Method: Families with at least x truncated samples\")\n",
    "sns.lineplot(n_families_to_exclude_tozero, label=\"Families %\")\n",
    "\n",
    "plt.legend()\n",
    "plt.grid()\n",
    "plt.xlabel(\"Number of truncated samples\")\n",
    "plt.ylabel(\"Proportion of families\")\n",
    "plt.show()"
   ]
  },
  {
   "cell_type": "code",
   "execution_count": null,
   "id": "6fb5a89d",
   "metadata": {},
   "outputs": [],
   "source": []
  }
 ],
 "metadata": {
  "kernelspec": {
   "display_name": "Python 3 (ipykernel)",
   "language": "python",
   "name": "python3"
  },
  "language_info": {
   "codemirror_mode": {
    "name": "ipython",
    "version": 3
   },
   "file_extension": ".py",
   "mimetype": "text/x-python",
   "name": "python",
   "nbconvert_exporter": "python",
   "pygments_lexer": "ipython3",
   "version": "3.10.12"
  }
 },
 "nbformat": 4,
 "nbformat_minor": 5
}
